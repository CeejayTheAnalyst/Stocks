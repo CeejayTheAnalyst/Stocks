{
 "cells": [
  {
   "cell_type": "code",
   "execution_count": 1,
   "id": "381e8446",
   "metadata": {},
   "outputs": [],
   "source": [
    "#initiate spark\n",
    "import pyspark\n",
    "from pyspark import SparkContext, SparkConf\n",
    "from pyspark.sql import SparkSession\n",
    "c = pyspark.SparkConf().setAppName(\"test_app\").setMaster(\"local\")\n",
    "sc = pyspark.SparkContext(conf = c)\n",
    "spark = SparkSession(sc)"
   ]
  },
  {
   "cell_type": "code",
   "execution_count": 2,
   "id": "d3a2de15",
   "metadata": {},
   "outputs": [],
   "source": [
    "#help(sc)"
   ]
  },
  {
   "cell_type": "markdown",
   "id": "6832ff5f",
   "metadata": {},
   "source": [
    "# Load Data \n",
    "\n",
    "## RDD"
   ]
  },
  {
   "cell_type": "code",
   "execution_count": 3,
   "id": "586bd344",
   "metadata": {},
   "outputs": [],
   "source": [
    "# Define a variable for datasets\n",
    "Tesla_data = 'TSLA.csv'\n",
    "Amazon_data = 'AMZN.csv'\n",
    "Google_data = 'GOOG.csv'"
   ]
  },
  {
   "cell_type": "code",
   "execution_count": 4,
   "id": "04230556",
   "metadata": {},
   "outputs": [],
   "source": [
    "def CreateRDD(file: str):\n",
    "    \n",
    "    '''Function to load file into RDD'''\n",
    "    \n",
    "    file_rdd = sc.textFile(file)\n",
    "    return file_rdd\n",
    "    "
   ]
  },
  {
   "cell_type": "code",
   "execution_count": 5,
   "id": "9db4653a",
   "metadata": {},
   "outputs": [],
   "source": [
    "Tesla_rdd = CreateRDD('TSLA.csv')\n",
    "Amazon_rdd = CreateRDD('AMZN.csv')\n",
    "Google_rdd = CreateRDD('GooG.csv')"
   ]
  },
  {
   "cell_type": "markdown",
   "id": "18292077",
   "metadata": {},
   "source": [
    "## DataFrame"
   ]
  },
  {
   "cell_type": "code",
   "execution_count": 6,
   "id": "c04597aa",
   "metadata": {},
   "outputs": [],
   "source": [
    "def CreateDF(file: str):\n",
    "    \n",
    "    '''Function to load file into RDD'''\n",
    "    \n",
    "    file_df = spark.read.csv(file,header=True,inferSchema=True)\n",
    "    return file_df"
   ]
  },
  {
   "cell_type": "code",
   "execution_count": 7,
   "id": "299a85e6",
   "metadata": {},
   "outputs": [],
   "source": [
    "Tesla_df = CreateDF('TSLA.csv')\n",
    "Amazon_df = CreateDF('AMZN.csv')\n",
    "Google_df = CreateDF('GooG.csv')"
   ]
  },
  {
   "cell_type": "markdown",
   "id": "04f43363",
   "metadata": {},
   "source": [
    "#### Check Schema of Each File"
   ]
  },
  {
   "cell_type": "code",
   "execution_count": 8,
   "id": "7709974c",
   "metadata": {},
   "outputs": [
    {
     "name": "stdout",
     "output_type": "stream",
     "text": [
      "root\n",
      " |-- Date: date (nullable = true)\n",
      " |-- Open: double (nullable = true)\n",
      " |-- High: double (nullable = true)\n",
      " |-- Low: double (nullable = true)\n",
      " |-- Close: double (nullable = true)\n",
      " |-- AdjClose: double (nullable = true)\n",
      " |-- Volume: integer (nullable = true)\n",
      "\n"
     ]
    }
   ],
   "source": [
    "Tesla_df.printSchema()"
   ]
  },
  {
   "cell_type": "code",
   "execution_count": 9,
   "id": "2cb76cab",
   "metadata": {},
   "outputs": [
    {
     "name": "stdout",
     "output_type": "stream",
     "text": [
      "root\n",
      " |-- Date: date (nullable = true)\n",
      " |-- Open: double (nullable = true)\n",
      " |-- High: double (nullable = true)\n",
      " |-- Low: double (nullable = true)\n",
      " |-- Close: double (nullable = true)\n",
      " |-- AdjClose: double (nullable = true)\n",
      " |-- Volume: integer (nullable = true)\n",
      "\n"
     ]
    }
   ],
   "source": [
    "Amazon_df.printSchema()"
   ]
  },
  {
   "cell_type": "code",
   "execution_count": 10,
   "id": "819bb4f9",
   "metadata": {},
   "outputs": [
    {
     "name": "stdout",
     "output_type": "stream",
     "text": [
      "root\n",
      " |-- Date: date (nullable = true)\n",
      " |-- Open: double (nullable = true)\n",
      " |-- High: double (nullable = true)\n",
      " |-- Low: double (nullable = true)\n",
      " |-- Close: double (nullable = true)\n",
      " |-- AdjClose: double (nullable = true)\n",
      " |-- Volume: integer (nullable = true)\n",
      "\n"
     ]
    }
   ],
   "source": [
    "Google_df.printSchema()"
   ]
  },
  {
   "cell_type": "markdown",
   "id": "fb260105",
   "metadata": {},
   "source": [
    "#### Checking Number of Rows"
   ]
  },
  {
   "cell_type": "code",
   "execution_count": 11,
   "id": "3f8777be",
   "metadata": {},
   "outputs": [
    {
     "data": {
      "text/plain": [
       "(253, 253, 253)"
      ]
     },
     "execution_count": 11,
     "metadata": {},
     "output_type": "execute_result"
    }
   ],
   "source": [
    "Tesla_df.count(),Google_df.count(),Amazon_df.count()"
   ]
  },
  {
   "cell_type": "markdown",
   "id": "25c49718",
   "metadata": {},
   "source": [
    "#### You can also make you dataframe more Presentatable like Pandas Dataframe"
   ]
  },
  {
   "cell_type": "code",
   "execution_count": 12,
   "id": "71281b83",
   "metadata": {},
   "outputs": [
    {
     "name": "stdout",
     "output_type": "stream",
     "text": [
      "+----------+----------+----------+----------+----------+----------+--------+\n",
      "|      Date|      Open|      High|       Low|     Close|  AdjClose|  Volume|\n",
      "+----------+----------+----------+----------+----------+----------+--------+\n",
      "|2019-07-15|     248.0|254.419998|244.860001|     253.5|     253.5|11000100|\n",
      "|2019-07-16|249.300003|253.529999|247.929993|252.380005|252.380005| 8149000|\n",
      "|2019-07-17|255.669998|258.309998|253.350006|254.860001|254.860001| 9764700|\n",
      "|2019-07-18|255.050003|    255.75|251.889999|253.539993|253.539993| 4764500|\n",
      "|2019-07-19|255.690002|259.959991|254.619995|258.179993|258.179993| 7048400|\n",
      "+----------+----------+----------+----------+----------+----------+--------+\n",
      "only showing top 5 rows\n",
      "\n"
     ]
    }
   ],
   "source": [
    "# Without Pandas DataFrame\n",
    "Tesla_df.show(5)"
   ]
  },
  {
   "cell_type": "code",
   "execution_count": 13,
   "id": "194da399",
   "metadata": {},
   "outputs": [
    {
     "data": {
      "text/html": [
       "<div>\n",
       "<style scoped>\n",
       "    .dataframe tbody tr th:only-of-type {\n",
       "        vertical-align: middle;\n",
       "    }\n",
       "\n",
       "    .dataframe tbody tr th {\n",
       "        vertical-align: top;\n",
       "    }\n",
       "\n",
       "    .dataframe thead th {\n",
       "        text-align: right;\n",
       "    }\n",
       "</style>\n",
       "<table border=\"1\" class=\"dataframe\">\n",
       "  <thead>\n",
       "    <tr style=\"text-align: right;\">\n",
       "      <th></th>\n",
       "      <th>Date</th>\n",
       "      <th>Open</th>\n",
       "      <th>High</th>\n",
       "      <th>Low</th>\n",
       "      <th>Close</th>\n",
       "      <th>AdjClose</th>\n",
       "      <th>Volume</th>\n",
       "    </tr>\n",
       "  </thead>\n",
       "  <tbody>\n",
       "    <tr>\n",
       "      <th>0</th>\n",
       "      <td>2019-07-15</td>\n",
       "      <td>248.000000</td>\n",
       "      <td>254.419998</td>\n",
       "      <td>244.860001</td>\n",
       "      <td>253.500000</td>\n",
       "      <td>253.500000</td>\n",
       "      <td>11000100</td>\n",
       "    </tr>\n",
       "    <tr>\n",
       "      <th>1</th>\n",
       "      <td>2019-07-16</td>\n",
       "      <td>249.300003</td>\n",
       "      <td>253.529999</td>\n",
       "      <td>247.929993</td>\n",
       "      <td>252.380005</td>\n",
       "      <td>252.380005</td>\n",
       "      <td>8149000</td>\n",
       "    </tr>\n",
       "    <tr>\n",
       "      <th>2</th>\n",
       "      <td>2019-07-17</td>\n",
       "      <td>255.669998</td>\n",
       "      <td>258.309998</td>\n",
       "      <td>253.350006</td>\n",
       "      <td>254.860001</td>\n",
       "      <td>254.860001</td>\n",
       "      <td>9764700</td>\n",
       "    </tr>\n",
       "    <tr>\n",
       "      <th>3</th>\n",
       "      <td>2019-07-18</td>\n",
       "      <td>255.050003</td>\n",
       "      <td>255.750000</td>\n",
       "      <td>251.889999</td>\n",
       "      <td>253.539993</td>\n",
       "      <td>253.539993</td>\n",
       "      <td>4764500</td>\n",
       "    </tr>\n",
       "    <tr>\n",
       "      <th>4</th>\n",
       "      <td>2019-07-19</td>\n",
       "      <td>255.690002</td>\n",
       "      <td>259.959991</td>\n",
       "      <td>254.619995</td>\n",
       "      <td>258.179993</td>\n",
       "      <td>258.179993</td>\n",
       "      <td>7048400</td>\n",
       "    </tr>\n",
       "  </tbody>\n",
       "</table>\n",
       "</div>"
      ],
      "text/plain": [
       "         Date        Open        High         Low       Close    AdjClose  \\\n",
       "0  2019-07-15  248.000000  254.419998  244.860001  253.500000  253.500000   \n",
       "1  2019-07-16  249.300003  253.529999  247.929993  252.380005  252.380005   \n",
       "2  2019-07-17  255.669998  258.309998  253.350006  254.860001  254.860001   \n",
       "3  2019-07-18  255.050003  255.750000  251.889999  253.539993  253.539993   \n",
       "4  2019-07-19  255.690002  259.959991  254.619995  258.179993  258.179993   \n",
       "\n",
       "     Volume  \n",
       "0  11000100  \n",
       "1   8149000  \n",
       "2   9764700  \n",
       "3   4764500  \n",
       "4   7048400  "
      ]
     },
     "execution_count": 13,
     "metadata": {},
     "output_type": "execute_result"
    }
   ],
   "source": [
    "# With Pandas dataFrame\n",
    "import pandas as pd\n",
    "Tesla_df.toPandas().head(5)"
   ]
  },
  {
   "cell_type": "markdown",
   "id": "45ece02c",
   "metadata": {},
   "source": [
    "## Explore and Query Data Using DataFrameAPI "
   ]
  },
  {
   "cell_type": "code",
   "execution_count": 14,
   "id": "2e229019",
   "metadata": {},
   "outputs": [],
   "source": [
    "# 1 . Find the average closing  per year and per month for all stock dataset\n",
    "#import pyspark.sql.function\n",
    "from pyspark.sql.functions import *"
   ]
  },
  {
   "cell_type": "code",
   "execution_count": 23,
   "id": "90c57a9e",
   "metadata": {
    "scrolled": false
   },
   "outputs": [],
   "source": [
    "avg_year_tesla = Tesla_df.select(year(\"Date\").alias(\"Year_\"),\"Close\").groupby(\"Year_\").avg(\"Close\").sort(\"Year_\")\n",
    "avg_month_tesla = Tesla_df.select(month(\"Date\").alias(\"Month_\"),\"Close\").groupby(\"Month_\").avg(\"Close\").sort(\"Month_\")\n",
    "avg_year_Google = Google_df.select(year(\"Date\").alias(\"Year_\"),\"Close\").groupby(\"Year_\").avg(\"Close\").sort(\"Year_\")\n",
    "avg_month_Google = Google_df.select(month(\"Date\").alias(\"Month_\"),\"Close\").groupby(\"Month_\").avg(\"Close\").sort(\"Month_\")\n",
    "avg_year_Amazon = Amazon_df.select(year(\"Date\").alias(\"Year_\"),\"Close\").groupby(\"Year_\").avg(\"Close\").sort(\"Year_\")\n",
    "avg_month_Amazon = Amazon_df.select(month(\"Date\").alias(\"Month_\"),\"Close\").groupby(\"Month_\").avg(\"Close\").sort(\"Month_\")\n"
   ]
  },
  {
   "cell_type": "code",
   "execution_count": 25,
   "id": "2baa86dc",
   "metadata": {},
   "outputs": [
    {
     "name": "stdout",
     "output_type": "stream",
     "text": [
      "+-----+------------------+\n",
      "|Year_|        avg(Close)|\n",
      "+-----+------------------+\n",
      "| 2019|283.62126070588243|\n",
      "| 2020| 761.8206739179104|\n",
      "+-----+------------------+\n",
      "\n"
     ]
    }
   ],
   "source": [
    "avg_year_tesla.show()"
   ]
  },
  {
   "cell_type": "code",
   "execution_count": 27,
   "id": "c358f6d8",
   "metadata": {},
   "outputs": [
    {
     "name": "stdout",
     "output_type": "stream",
     "text": [
      "+------+-----------------+\n",
      "|Month_|       avg(Close)|\n",
      "+------+-----------------+\n",
      "|     1|528.6590503809524|\n",
      "|     2|797.4468415263159|\n",
      "|     3|559.1013613181818|\n",
      "|     4|663.5985761428572|\n",
      "|     5|     799.42549745|\n",
      "+------+-----------------+\n",
      "only showing top 5 rows\n",
      "\n"
     ]
    }
   ],
   "source": [
    "avg_month_tesla.show(5)"
   ]
  },
  {
   "cell_type": "code",
   "execution_count": 28,
   "id": "f006c8fe",
   "metadata": {},
   "outputs": [
    {
     "name": "stdout",
     "output_type": "stream",
     "text": [
      "+-----+------------------+\n",
      "|Year_|        avg(Close)|\n",
      "+-----+------------------+\n",
      "| 2019|1245.3833654621849|\n",
      "| 2020|1362.8286906865671|\n",
      "+-----+------------------+\n",
      "\n"
     ]
    }
   ],
   "source": [
    "avg_year_Google.show()"
   ]
  },
  {
   "cell_type": "code",
   "execution_count": 29,
   "id": "c32fb4a7",
   "metadata": {},
   "outputs": [
    {
     "name": "stdout",
     "output_type": "stream",
     "text": [
      "+------+------------------+\n",
      "|Month_|        avg(Close)|\n",
      "+------+------------------+\n",
      "|     1|1436.6537968571424|\n",
      "|     2|1464.1105184736841|\n",
      "|     3|1188.3940984545457|\n",
      "|     4|1234.1404797142854|\n",
      "|     5|1381.1137511999998|\n",
      "|     6|1431.0477184545452|\n",
      "|     7|1303.4918102272727|\n",
      "|     8|1180.6868120454546|\n",
      "|     9|     1220.83952035|\n",
      "|    10|1232.7117442608696|\n",
      "|    11|     1304.27899165|\n",
      "|    12|1340.8676351904762|\n",
      "+------+------------------+\n",
      "\n"
     ]
    }
   ],
   "source": [
    "avg_month_Google.show()"
   ]
  },
  {
   "cell_type": "code",
   "execution_count": 30,
   "id": "2b778617",
   "metadata": {},
   "outputs": [
    {
     "name": "stdout",
     "output_type": "stream",
     "text": [
      "+-----+------------------+\n",
      "|Year_|        avg(Close)|\n",
      "+-----+------------------+\n",
      "| 2019|1800.6161329411755|\n",
      "| 2020| 2236.414478798507|\n",
      "+-----+------------------+\n",
      "\n"
     ]
    }
   ],
   "source": [
    "avg_year_Amazon.show()"
   ]
  },
  {
   "cell_type": "code",
   "execution_count": 31,
   "id": "5367f6b4",
   "metadata": {},
   "outputs": [
    {
     "name": "stdout",
     "output_type": "stream",
     "text": [
      "+------+------------------+\n",
      "|Month_|        avg(Close)|\n",
      "+------+------------------+\n",
      "|     1|1884.2376128571425|\n",
      "|     2|2066.1752672631574|\n",
      "|     3|1872.3104358636365|\n",
      "|     4|2228.7052408571426|\n",
      "|     5|2394.1840209499996|\n",
      "+------+------------------+\n",
      "only showing top 5 rows\n",
      "\n"
     ]
    }
   ],
   "source": [
    "avg_month_Amazon.show(5)"
   ]
  },
  {
   "cell_type": "code",
   "execution_count": null,
   "id": "1eddaf9e",
   "metadata": {},
   "outputs": [],
   "source": [
    "# 2 . Find the average Low  per year and per month for all stock dataset"
   ]
  },
  {
   "cell_type": "code",
   "execution_count": 33,
   "id": "0e3127fd",
   "metadata": {},
   "outputs": [],
   "source": [
    "avg_year_tesla_low = Tesla_df.select(year(\"Date\").alias(\"Year_\"),\"Low\").groupby(\"Year_\").avg(\"Low\").sort(\"Year_\")\n",
    "avg_month_tesla_low = Tesla_df.select(month(\"Date\").alias(\"Month_\"),\"Low\").groupby(\"Month_\").avg(\"Low\").sort(\"Month_\")\n",
    "avg_year_Google_low = Google_df.select(year(\"Date\").alias(\"Year_\"),\"Low\").groupby(\"Year_\").avg(\"Low\").sort(\"Year_\")\n",
    "avg_month_Google_low = Google_df.select(month(\"Date\").alias(\"Month_\"),\"Low\").groupby(\"Month_\").avg(\"Low\").sort(\"Month_\")\n",
    "avg_year_Amazon_low = Amazon_df.select(year(\"Date\").alias(\"Year_\"),\"Low\").groupby(\"Year_\").avg(\"Low\").sort(\"Year_\")\n",
    "avg_month_Amazon_low = Amazon_df.select(month(\"Date\").alias(\"Month_\"),\"Low\").groupby(\"Month_\").avg(\"Low\").sort(\"Month_\")\n"
   ]
  },
  {
   "cell_type": "code",
   "execution_count": 36,
   "id": "f57ccffe",
   "metadata": {},
   "outputs": [
    {
     "name": "stdout",
     "output_type": "stream",
     "text": [
      "+-----+-----------------+\n",
      "|Year_|         avg(Low)|\n",
      "+-----+-----------------+\n",
      "| 2019|278.6834451428571|\n",
      "| 2020|736.3253731791043|\n",
      "+-----+-----------------+\n",
      "\n"
     ]
    }
   ],
   "source": [
    "avg_year_tesla_low.show()"
   ]
  },
  {
   "cell_type": "code",
   "execution_count": 37,
   "id": "1a607c59",
   "metadata": {},
   "outputs": [
    {
     "name": "stdout",
     "output_type": "stream",
     "text": [
      "+------+-----------------+\n",
      "|Month_|         avg(Low)|\n",
      "+------+-----------------+\n",
      "|     1| 514.690000952381|\n",
      "|     2|766.4410560526314|\n",
      "|     3|534.8704542272727|\n",
      "|     4|641.0638093333333|\n",
      "|     5|      780.3454987|\n",
      "+------+-----------------+\n",
      "only showing top 5 rows\n",
      "\n"
     ]
    }
   ],
   "source": [
    "avg_month_tesla_low.show(5)"
   ]
  },
  {
   "cell_type": "markdown",
   "id": "be42be26",
   "metadata": {},
   "source": [
    "## Using Spark SQL to perform Statistical Analysis on the data "
   ]
  },
  {
   "cell_type": "code",
   "execution_count": 38,
   "id": "dcb3ac39",
   "metadata": {},
   "outputs": [],
   "source": [
    "Tesla_df.createOrReplaceTempView(\"Tesla_Tv\")"
   ]
  },
  {
   "cell_type": "code",
   "execution_count": 43,
   "id": "70fa53bf",
   "metadata": {},
   "outputs": [],
   "source": [
    "Amazon_df.createOrReplaceTempView(\"Amazon_Tv\")"
   ]
  },
  {
   "cell_type": "code",
   "execution_count": 44,
   "id": "fc23a583",
   "metadata": {},
   "outputs": [],
   "source": [
    "Google_df.createOrReplaceTempView(\"Google_Tv\")"
   ]
  },
  {
   "cell_type": "code",
   "execution_count": null,
   "id": "245a3a9b",
   "metadata": {},
   "outputs": [],
   "source": [
    "# 1. Lets calculate previous day Volume "
   ]
  },
  {
   "cell_type": "code",
   "execution_count": 60,
   "id": "7201ebf9",
   "metadata": {
    "scrolled": false
   },
   "outputs": [
    {
     "name": "stdout",
     "output_type": "stream",
     "text": [
      "+----------+----------+----------+----------+----------+----------+--------+-------------------+\n",
      "|      Date|      Open|      High|       Low|     Close|  AdjClose|  Volume|Previous_Day_Volume|\n",
      "+----------+----------+----------+----------+----------+----------+--------+-------------------+\n",
      "|2020-01-02|     424.5|430.700012|421.709991| 430.26001| 430.26001| 9532100|                  0|\n",
      "|2020-01-03|     440.5|     454.0|436.920013| 443.01001| 443.01001|17778500|            9532100|\n",
      "|2020-01-06|440.470001|451.559998|     440.0|451.540009|451.540009|10133000|           17778500|\n",
      "|2020-01-07|461.399994|471.630005|453.359985|469.059998|469.059998|17882100|           10133000|\n",
      "|2020-01-08|473.700012| 498.48999|468.230011|492.140015|492.140015|31144300|           17882100|\n",
      "+----------+----------+----------+----------+----------+----------+--------+-------------------+\n",
      "only showing top 5 rows\n",
      "\n"
     ]
    }
   ],
   "source": [
    "Previous_day_Tesla = spark.sql(\"\"\"\n",
    "    SELECT *, LAG(Volume, 1, 0) OVER (PARTITION BY MONTH(Date) ORDER BY Date) as Previous_Day_Volume\n",
    "    FROM Tesla_Tv\n",
    "\"\"\")\n",
    "# display Result\n",
    "Previous_day_Tesla.show(5)"
   ]
  },
  {
   "cell_type": "code",
   "execution_count": 61,
   "id": "9b7dac66",
   "metadata": {},
   "outputs": [
    {
     "name": "stdout",
     "output_type": "stream",
     "text": [
      "+----------+----------+----------+----------+----------+----------+--------+-------------------+\n",
      "|      Date|      Open|      High|       Low|     Close|  AdjClose|  Volume|Previous_Day_Volume|\n",
      "+----------+----------+----------+----------+----------+----------+--------+-------------------+\n",
      "|2020-01-02|     424.5|430.700012|421.709991| 430.26001| 430.26001| 9532100|                  0|\n",
      "|2020-01-03|     440.5|     454.0|436.920013| 443.01001| 443.01001|17778500|            9532100|\n",
      "|2020-01-06|440.470001|451.559998|     440.0|451.540009|451.540009|10133000|           17778500|\n",
      "|2020-01-07|461.399994|471.630005|453.359985|469.059998|469.059998|17882100|           10133000|\n",
      "|2020-01-08|473.700012| 498.48999|468.230011|492.140015|492.140015|31144300|           17882100|\n",
      "+----------+----------+----------+----------+----------+----------+--------+-------------------+\n",
      "only showing top 5 rows\n",
      "\n"
     ]
    }
   ],
   "source": [
    "Previous_day_Amazon = spark.sql(\"\"\"\n",
    "    SELECT *, LAG(Volume, 1, 0) OVER (PARTITION BY MONTH(Date) ORDER BY Date) as Previous_Day_Volume\n",
    "    FROM Amazon_Tv\n",
    "\"\"\")\n",
    "# display Result\n",
    "Previous_day_Tesla.show(5)"
   ]
  },
  {
   "cell_type": "code",
   "execution_count": 62,
   "id": "2f85fde0",
   "metadata": {},
   "outputs": [
    {
     "name": "stdout",
     "output_type": "stream",
     "text": [
      "+----------+----------+----------+----------+----------+----------+--------+-------------------+\n",
      "|      Date|      Open|      High|       Low|     Close|  AdjClose|  Volume|Previous_Day_Volume|\n",
      "+----------+----------+----------+----------+----------+----------+--------+-------------------+\n",
      "|2020-01-02|     424.5|430.700012|421.709991| 430.26001| 430.26001| 9532100|                  0|\n",
      "|2020-01-03|     440.5|     454.0|436.920013| 443.01001| 443.01001|17778500|            9532100|\n",
      "|2020-01-06|440.470001|451.559998|     440.0|451.540009|451.540009|10133000|           17778500|\n",
      "|2020-01-07|461.399994|471.630005|453.359985|469.059998|469.059998|17882100|           10133000|\n",
      "|2020-01-08|473.700012| 498.48999|468.230011|492.140015|492.140015|31144300|           17882100|\n",
      "+----------+----------+----------+----------+----------+----------+--------+-------------------+\n",
      "only showing top 5 rows\n",
      "\n"
     ]
    }
   ],
   "source": [
    "Previous_day_Google = spark.sql(\"\"\"\n",
    "    SELECT *, LAG(Volume, 1, 0) OVER (PARTITION BY MONTH(Date) ORDER BY Date) as Previous_Day_Volume\n",
    "    FROM Google_Tv\n",
    "\"\"\")\n",
    "# display Result\n",
    "Previous_day_Tesla.show(5)"
   ]
  },
  {
   "cell_type": "markdown",
   "id": "c401e478",
   "metadata": {},
   "source": [
    "#### Perform a Join Operation Using Spark SQL"
   ]
  },
  {
   "cell_type": "code",
   "execution_count": 67,
   "id": "3cb2eb4e",
   "metadata": {},
   "outputs": [],
   "source": [
    "# Compare Different Daily Close for each Stock Company \n",
    "\n",
    "Final_Table = spark.sql(\"\"\"\n",
    "    SELECT T.Date AS Date, T.Close AS Close_Tesla , A.Close AS Close_Amazon, G.Close AS Close_Google\n",
    "    FROM Tesla_Tv AS T \n",
    "    JOIN Amazon_Tv AS A ON T.Date = A.Date\n",
    "    JOIN Google_Tv AS G ON A.Date = G.Date\n",
    "\"\"\")"
   ]
  },
  {
   "cell_type": "code",
   "execution_count": 68,
   "id": "1bd2ae81",
   "metadata": {},
   "outputs": [
    {
     "name": "stdout",
     "output_type": "stream",
     "text": [
      "+----------+-----------+------------+------------+\n",
      "|      Date|Close_Tesla|Close_Amazon|Close_Google|\n",
      "+----------+-----------+------------+------------+\n",
      "|2019-07-15|      253.5|  2020.98999| 1150.339966|\n",
      "|2019-07-16| 252.380005| 2009.900024| 1153.579956|\n",
      "|2019-07-17| 254.860001| 1992.030029| 1146.349976|\n",
      "|2019-07-18| 253.539993| 1977.900024| 1146.329956|\n",
      "|2019-07-19| 258.179993|  1964.52002| 1130.099976|\n",
      "+----------+-----------+------------+------------+\n",
      "only showing top 5 rows\n",
      "\n"
     ]
    }
   ],
   "source": [
    "Final_Table.show(5)"
   ]
  },
  {
   "cell_type": "code",
   "execution_count": 70,
   "id": "41ffc310",
   "metadata": {},
   "outputs": [
    {
     "data": {
      "text/plain": [
       "pyspark.sql.dataframe.DataFrame"
      ]
     },
     "execution_count": 70,
     "metadata": {},
     "output_type": "execute_result"
    }
   ],
   "source": [
    "type(Final_Table)"
   ]
  },
  {
   "cell_type": "markdown",
   "id": "99c2d1c0",
   "metadata": {},
   "source": [
    "## Save Final Table In a Parquet Format"
   ]
  }
 ],
 "metadata": {
  "kernelspec": {
   "display_name": "Python 3 (ipykernel)",
   "language": "python",
   "name": "python3"
  },
  "language_info": {
   "codemirror_mode": {
    "name": "ipython",
    "version": 3
   },
   "file_extension": ".py",
   "mimetype": "text/x-python",
   "name": "python",
   "nbconvert_exporter": "python",
   "pygments_lexer": "ipython3",
   "version": "3.10.9"
  }
 },
 "nbformat": 4,
 "nbformat_minor": 5
}
